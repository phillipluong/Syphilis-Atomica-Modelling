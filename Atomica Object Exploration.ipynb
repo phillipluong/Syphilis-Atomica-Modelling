{
 "cells": [
  {
   "cell_type": "code",
   "execution_count": 1,
   "metadata": {
    "slideshow": {
     "slide_type": "skip"
    }
   },
   "outputs": [],
   "source": [
    "import atomica as at\n",
    "import numpy as np\n",
    "import matplotlib.pyplot as plt\n",
    "import sciris as sc"
   ]
  },
  {
   "cell_type": "markdown",
   "metadata": {
    "slideshow": {
     "slide_type": "slide"
    }
   },
   "source": [
    "## Some Jupyter Notebook things I want to get used to using:\n",
    "\n",
    "- `Shift+Tab` to view documentation\n",
    "- Clicking on `^` on the top right corner of the documentation to view it in a pager\n",
    "- Clicking on `+` to grow the docstring vertically\n",
    "- Click on `x` to close the docstring"
   ]
  },
  {
   "cell_type": "code",
   "execution_count": 3,
   "metadata": {
    "slideshow": {
     "slide_type": "fragment"
    }
   },
   "outputs": [
    {
     "data": {
      "application/javascript": [
       "\n",
       "            setTimeout(function() {\n",
       "                var nbb_cell_id = 3;\n",
       "                var nbb_unformatted_code = \"%load_ext nb_black\";\n",
       "                var nbb_formatted_code = \"%load_ext nb_black\";\n",
       "                var nbb_cells = Jupyter.notebook.get_cells();\n",
       "                for (var i = 0; i < nbb_cells.length; ++i) {\n",
       "                    if (nbb_cells[i].input_prompt_number == nbb_cell_id) {\n",
       "                        if (nbb_cells[i].get_text() == nbb_unformatted_code) {\n",
       "                             nbb_cells[i].set_text(nbb_formatted_code);\n",
       "                        }\n",
       "                        break;\n",
       "                    }\n",
       "                }\n",
       "            }, 500);\n",
       "            "
      ],
      "text/plain": [
       "<IPython.core.display.Javascript object>"
      ]
     },
     "metadata": {},
     "output_type": "display_data"
    }
   ],
   "source": [
    "%load_ext nb_black"
   ]
  },
  {
   "cell_type": "markdown",
   "metadata": {
    "slideshow": {
     "slide_type": "skip"
    }
   },
   "source": [
    "### Load the databook"
   ]
  },
  {
   "cell_type": "code",
   "execution_count": 5,
   "metadata": {
    "collapsed": true,
    "slideshow": {
     "slide_type": "skip"
    }
   },
   "outputs": [
    {
     "name": "stderr",
     "output_type": "stream",
     "text": [
      "C:\\Users\\iamph\\Miniconda3\\envs\\tensorflow\\lib\\site-packages\\openpyxl\\worksheet\\_reader.py:308: UserWarning: Conditional Formatting extension is not supported and will be removed\n",
      "  warn(msg)\n",
      "C:\\Users\\iamph\\Miniconda3\\envs\\tensorflow\\lib\\site-packages\\openpyxl\\worksheet\\_reader.py:308: UserWarning: Data Validation extension is not supported and will be removed\n",
      "  warn(msg)\n",
      "C:\\Users\\iamph\\Miniconda3\\envs\\tensorflow\\lib\\site-packages\\openpyxl\\worksheet\\_reader.py:308: UserWarning: Conditional Formatting extension is not supported and will be removed\n",
      "  warn(msg)\n",
      "C:\\Users\\iamph\\Miniconda3\\envs\\tensorflow\\lib\\site-packages\\openpyxl\\worksheet\\_reader.py:308: UserWarning: Data Validation extension is not supported and will be removed\n",
      "  warn(msg)\n",
      "C:\\Users\\iamph\\Miniconda3\\envs\\tensorflow\\lib\\site-packages\\openpyxl\\worksheet\\_reader.py:308: UserWarning: Conditional Formatting extension is not supported and will be removed\n",
      "  warn(msg)\n",
      "C:\\Users\\iamph\\Miniconda3\\envs\\tensorflow\\lib\\site-packages\\openpyxl\\worksheet\\_reader.py:308: UserWarning: Conditional Formatting extension is not supported and will be removed\n",
      "  warn(msg)\n",
      "C:\\Users\\iamph\\Miniconda3\\envs\\tensorflow\\lib\\site-packages\\openpyxl\\worksheet\\_reader.py:308: UserWarning: Data Validation extension is not supported and will be removed\n",
      "  warn(msg)\n",
      "C:\\Users\\iamph\\Miniconda3\\envs\\tensorflow\\lib\\site-packages\\openpyxl\\worksheet\\_reader.py:308: UserWarning: Data Validation extension is not supported and will be removed\n",
      "  warn(msg)\n"
     ]
    },
    {
     "data": {
      "application/javascript": [
       "\n",
       "            setTimeout(function() {\n",
       "                var nbb_cell_id = 5;\n",
       "                var nbb_unformatted_code = \"F = at.ProjectFramework(\\\"syphilis_framework_v02_2.xlsx\\\")\\nD = at.ProjectData.from_spreadsheet(\\\"syphilis_databook_v02.xlsx\\\", framework=F)\";\n",
       "                var nbb_formatted_code = \"F = at.ProjectFramework(\\\"syphilis_framework_v02_2.xlsx\\\")\\nD = at.ProjectData.from_spreadsheet(\\\"syphilis_databook_v02.xlsx\\\", framework=F)\";\n",
       "                var nbb_cells = Jupyter.notebook.get_cells();\n",
       "                for (var i = 0; i < nbb_cells.length; ++i) {\n",
       "                    if (nbb_cells[i].input_prompt_number == nbb_cell_id) {\n",
       "                        if (nbb_cells[i].get_text() == nbb_unformatted_code) {\n",
       "                             nbb_cells[i].set_text(nbb_formatted_code);\n",
       "                        }\n",
       "                        break;\n",
       "                    }\n",
       "                }\n",
       "            }, 500);\n",
       "            "
      ],
      "text/plain": [
       "<IPython.core.display.Javascript object>"
      ]
     },
     "metadata": {},
     "output_type": "display_data"
    }
   ],
   "source": [
    "F = at.ProjectFramework(\"syphilis_framework_v02_2.xlsx\")\n",
    "D = at.ProjectData.from_spreadsheet(\"syphilis_databook_v02.xlsx\", framework=F)\n"
   ]
  },
  {
   "cell_type": "markdown",
   "metadata": {
    "slideshow": {
     "slide_type": "slide"
    }
   },
   "source": [
    "## Let's explore the databook type"
   ]
  },
  {
   "cell_type": "markdown",
   "metadata": {},
   "source": [
    "### Population Table\n",
    "\n",
    "![population table](images_presentation/population_table.png)\n",
    "\n",
    "The population table right now is quite basic, but will hope to include a third column to include human and mosquito populations"
   ]
  },
  {
   "cell_type": "markdown",
   "metadata": {},
   "source": [
    "### Project Data Options:\n",
    "\n",
    "- Get a new instance using `ProjectData.new()` where you pass in a Framework together with a list (or number) or populations and transfers\n",
    "- Use `to_spreadsheet()` to get a sciris `Spreadsheet` representation of the data, and `save()` to write the `ProjectData` to disk\n",
    "\n",
    "- Use `get_ts()` to get the time-data associated with a quantity out of `ProjectData` eg. when making parameters. \n",
    "- You can change the time values using `change_tvec()` while keeping the data intact. \n",
    "\n",
    "#### Other Options:\n",
    "- `validate` -> Check if `ProjectData` instance can be used to run simulations\n",
    "- `rename_transfer`, `rename_pop`\n",
    "- `remove_transfer`, `remove_pop`"
   ]
  },
  {
   "cell_type": "code",
   "execution_count": 6,
   "metadata": {},
   "outputs": [
    {
     "ename": "AttributeError",
     "evalue": "'ProjectData' object has no attribute 'keys'",
     "output_type": "error",
     "traceback": [
      "\u001b[1;31m---------------------------------------------------------------------------\u001b[0m",
      "\u001b[1;31mAttributeError\u001b[0m                            Traceback (most recent call last)",
      "\u001b[1;32m<ipython-input-6-56f43290d51a>\u001b[0m in \u001b[0;36m<module>\u001b[1;34m\u001b[0m\n\u001b[1;32m----> 1\u001b[1;33m \u001b[0mD\u001b[0m\u001b[1;33m.\u001b[0m\u001b[0mkeys\u001b[0m\u001b[1;33m(\u001b[0m\u001b[1;33m)\u001b[0m\u001b[1;33m\u001b[0m\u001b[1;33m\u001b[0m\u001b[0m\n\u001b[0m",
      "\u001b[1;31mAttributeError\u001b[0m: 'ProjectData' object has no attribute 'keys'"
     ]
    },
    {
     "data": {
      "application/javascript": [
       "\n",
       "            setTimeout(function() {\n",
       "                var nbb_cell_id = 6;\n",
       "                var nbb_unformatted_code = \"D.keys()\";\n",
       "                var nbb_formatted_code = \"D.keys()\";\n",
       "                var nbb_cells = Jupyter.notebook.get_cells();\n",
       "                for (var i = 0; i < nbb_cells.length; ++i) {\n",
       "                    if (nbb_cells[i].input_prompt_number == nbb_cell_id) {\n",
       "                        if (nbb_cells[i].get_text() == nbb_unformatted_code) {\n",
       "                             nbb_cells[i].set_text(nbb_formatted_code);\n",
       "                        }\n",
       "                        break;\n",
       "                    }\n",
       "                }\n",
       "            }, 500);\n",
       "            "
      ],
      "text/plain": [
       "<IPython.core.display.Javascript object>"
      ]
     },
     "metadata": {},
     "output_type": "display_data"
    }
   ],
   "source": [
    "D.keys()"
   ]
  },
  {
   "cell_type": "code",
   "execution_count": 8,
   "metadata": {},
   "outputs": [
    {
     "data": {
      "application/javascript": [
       "\n",
       "            setTimeout(function() {\n",
       "                var nbb_cell_id = 8;\n",
       "                var nbb_unformatted_code = \"D?\";\n",
       "                var nbb_formatted_code = \"D?\";\n",
       "                var nbb_cells = Jupyter.notebook.get_cells();\n",
       "                for (var i = 0; i < nbb_cells.length; ++i) {\n",
       "                    if (nbb_cells[i].input_prompt_number == nbb_cell_id) {\n",
       "                        if (nbb_cells[i].get_text() == nbb_unformatted_code) {\n",
       "                             nbb_cells[i].set_text(nbb_formatted_code);\n",
       "                        }\n",
       "                        break;\n",
       "                    }\n",
       "                }\n",
       "            }, 500);\n",
       "            "
      ],
      "text/plain": [
       "<IPython.core.display.Javascript object>"
      ]
     },
     "metadata": {},
     "output_type": "display_data"
    }
   ],
   "source": [
    "D?"
   ]
  },
  {
   "cell_type": "markdown",
   "metadata": {},
   "source": [
    "Type:        ProjectData\n",
    "String form:\n",
    "<atomica.data.ProjectData at 0x1da661d95f8>\n",
    "\n",
    "           ————————————————————————————————————————————————————— \n",
    "           <...> .,\n",
    "           2017., 2018., [...]\n",
    "           ————————————————————————————————————————————————————————————\n",
    "           \n",
    "File:        c:\\users\\iamph\\miniconda3\\envs\\tensorflow\\lib\\site-packages\\atomica\\data.py\n",
    "Docstring:  \n",
    "Store project data: class-equivalent of Databooks\n",
    "\n",
    "This class is used to load and work with data that is entered in databooks. It\n",
    "provides the interface for\n",
    "\n",
    "- Loading data\n",
    "- Modifying data (values, adding/removing populations etc.\n",
    "- Saving modified data\n",
    "- Writing new databooks\n",
    "\n",
    "To instantiate, the ``ProjectData`` constructor is normally not used. Instead, use\n",
    "the static methods\n",
    "\n",
    "- ``ProjectData.new()`` to create a new instance/databook given a :class:`ProjectFramework`\n",
    "- ``ProjectData.from_spreadsheet()`` to load a databook"
   ]
  },
  {
   "cell_type": "markdown",
   "metadata": {},
   "source": [
    "## "
   ]
  },
  {
   "cell_type": "code",
   "execution_count": null,
   "metadata": {},
   "outputs": [],
   "source": []
  }
 ],
 "metadata": {
  "celltoolbar": "Slideshow",
  "kernelspec": {
   "display_name": "Python 3.6 (tensorflow)",
   "language": "python",
   "name": "tensorflow"
  },
  "language_info": {
   "codemirror_mode": {
    "name": "ipython",
    "version": 3
   },
   "file_extension": ".py",
   "mimetype": "text/x-python",
   "name": "python",
   "nbconvert_exporter": "python",
   "pygments_lexer": "ipython3",
   "version": "3.6.8"
  }
 },
 "nbformat": 4,
 "nbformat_minor": 2
}
